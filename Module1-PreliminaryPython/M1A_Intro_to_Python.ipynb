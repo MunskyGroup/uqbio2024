{
 "cells": [
  {
   "cell_type": "markdown",
   "metadata": {
    "id": "27KJr6m7LbOB"
   },
   "source": [
    "<html>\n",
    "    <summary></summary>\n",
    "    <p float=\"left\">\n",
    "         <div> <p></p> </div>\n",
    "         <div style=\"font-size: 20px; width: 800px;\">\n",
    "              <h1>\n",
    "               <left>Intro to Python: Hello (Python) world, types, arithmetic operations, iterables, and containers </left>\n",
    "              </h1>\n",
    "              <p><left>============================================================================</left> </p>              \n",
    "             <pre>Course: BIOM 421, Spring 2024\n",
    "Instructor: Dr. Brian Munsky\n",
    "Contact Info: munsky@colostate.edu\n",
    "Authors: Will Raymond, Dr. Luis Aguilera, Dr. Brian Munsky\n",
    "</pre>\n",
    "         </div>\n",
    "    </p>\n",
    "\n",
    "</html>\n",
    "\n",
    "\n",
    "\n",
    "<details>\n",
    "  <summary>Copyright info</summary>\n",
    "\n",
    "```\n",
    "Copyright 2023 Brian Munsky\n",
    "\n",
    "Redistribution and use in source and binary forms, with or without modification, are permitted provided that the following conditions are met:\n",
    "\n",
    "1. Redistributions of source code must retain the above copyright notice, this list of conditions and the following disclaimer.\n",
    "\n",
    "2. Redistributions in binary form must reproduce the above copyright notice, this list of conditions and the following disclaimer in the documentation and/or other materials provided with the distribution.\n",
    "\n",
    "3. Neither the name of the copyright holder nor the names of its contributors may be used to endorse or promote products derived from this software without specific prior written permission.\n",
    "\n",
    "THIS SOFTWARE IS PROVIDED BY THE COPYRIGHT HOLDERS AND CONTRIBUTORS \"AS IS\" AND ANY EXPRESS OR IMPLIED WARRANTIES, INCLUDING, BUT NOT LIMITED TO, THE IMPLIED WARRANTIES OF MERCHANTABILITY AND FITNESS FOR A PARTICULAR PURPOSE ARE DISCLAIMED. IN NO EVENT SHALL THE COPYRIGHT HOLDER OR CONTRIBUTORS BE LIABLE FOR ANY DIRECT, INDIRECT, INCIDENTAL, SPECIAL, EXEMPLARY, OR CONSEQUENTIAL DAMAGES (INCLUDING, BUT NOT LIMITED TO, PROCUREMENT OF SUBSTITUTE GOODS OR SERVICES; LOSS OF USE, DATA, OR PROFITS; OR BUSINESS INTERRUPTION) HOWEVER CAUSED AND ON ANY THEORY OF LIABILITY, WHETHER IN CONTRACT, STRICT LIABILITY, OR TORT (INCLUDING NEGLIGENCE OR OTHERWISE) ARISING IN ANY WAY OUT OF THE USE OF THIS SOFTWARE, EVEN IF ADVISED OF THE POSSIBILITY OF SUCH DAMAGE.\n",
    "```\n",
    "<details>\n",
    "\n"
   ]
  },
  {
   "cell_type": "markdown",
   "metadata": {
    "id": "9_w6sI7q3SUT"
   },
   "source": [
    "\n",
    "# 1.  Welcome! What is Python?\n",
    "\n",
    "**What is Python?**\n",
    "\n",
    "Python is an interpreted, high-level programming language available and widely used throughout the world in a myriad of applications.\n",
    "\n",
    "**Why Python?**\n",
    "\n",
    "Python is ubiquitous in the sciences and data sciences; Particularly prevelant in machine learning applications. It's open source, free, highly modular, and highly readable. Like other high-level programming  languages, Python trades computational efficiency for readability but suits our main goal to introduce relevant concepts for quantitative biology without getting too bogged down in the coding details.\n",
    "\n",
    "Due to being open source, Python has a massive ecosystem of libraries and functionality at its disposal. In this class, we will introduce and use a number of those libraries for numerical methods, statistical analyses, image processing pipelines, and more.\n",
    "\n",
    "There are _a huge number_ of excellent tutorials that introduce Python on Youtube. While we cover everything you will need to know for the course in this and subsequent notebooks, we highly recommend watching a few videos to get a feel for Python.\n",
    "\n",
    "Official Python information can be found here:\n",
    "----------\n",
    "https://www.python.org/about/\n",
    "\n",
    "https://docs.python.org/3/tutorial/index.html\n",
    "\n",
    "---\n",
    "Course Textbook\n",
    "---\n",
    "The course will occasionally refer to the book \"A student's guide to Python for physical modeling, 2nd Edition\" by Jesse M. Kinder and Philip Nelson. We highly recommend this book. It ill be a great resource for you when you get stuck, and we will refer to some sections in this book across our notebooks.\n",
    "\n",
    "<img src = \"https://m.media-amazon.com/images/P/0691223653.01._SCLZZZZZZZ_SX500_.jpg\" width=\"30%\">\n",
    "\n",
    "-----\n",
    "Local Python Environment\n",
    "----\n",
    "To set up a python environment on your local computer, we recommend checking out Anaconda environments:\n",
    "\n",
    "https://www.anaconda.com/products/distribution"
   ]
  },
  {
   "cell_type": "markdown",
   "metadata": {
    "id": "IHW3eOszLi1P"
   },
   "source": [
    "# 2.  Simple Math and Python Types\n",
    "\n",
    "Let's jump right in to Python! First lets see what version of Python we are using.\n",
    "\n",
    "```Reading: Kinder, Nelson Section 1.4```\n"
   ]
  },
  {
   "cell_type": "code",
   "execution_count": null,
   "metadata": {
    "colab": {
     "base_uri": "https://localhost:8080/"
    },
    "id": "2BGhyd-G248l",
    "outputId": "aea5a8a0-f7e0-4238-86ac-c7b3d0b36daa",
    "tags": []
   },
   "outputs": [],
   "source": [
    "# lets check out what version of Python we are using\n",
    "!python --version"
   ]
  },
  {
   "cell_type": "code",
   "execution_count": null,
   "metadata": {
    "colab": {
     "base_uri": "https://localhost:8080/"
    },
    "id": "AjPJHx7bDpvy",
    "outputId": "26454a7d-5f33-4cdb-e3a8-d164df6abbc7",
    "tags": []
   },
   "outputs": [],
   "source": [
    "# example print statement, here is how to print out a string, value, or information about a Python object\n",
    "# In this case we are printing out a string, denoted by the \" parenthesis or ' apostrophe\n",
    "\n",
    "print(\"Hello World!\")\n",
    "\n",
    "print('Hello World! (but with apostrophes)')"
   ]
  },
  {
   "cell_type": "code",
   "execution_count": null,
   "metadata": {
    "id": "QeYzs3Stp9oV",
    "tags": []
   },
   "outputs": [],
   "source": [
    "# we can get information about any Python object by adding a ? to the end of the object,\n",
    "# this will print out info to the dialog box about the particular object.\n",
    "print?"
   ]
  },
  {
   "cell_type": "markdown",
   "metadata": {
    "id": "X6LPpAI7G_p-"
   },
   "source": [
    "Python is **dynamically typed**: meaning when you define an object with the equals sign, say ```x = 1 ```, Python automatically assigns the variable ```x``` as an integer type, where as if you type something like ``` x = \"string\"``` python will dynamically assign the variable ```x``` as a string type.\n",
    "\n",
    "You can investigate what type of object an object is with the ```type(object)``` command."
   ]
  },
  {
   "cell_type": "code",
   "execution_count": null,
   "metadata": {
    "colab": {
     "base_uri": "https://localhost:8080/"
    },
    "id": "yvHQrAds3RaX",
    "outputId": "8557c1f8-1793-45f8-b025-c7938a26e23c",
    "tags": []
   },
   "outputs": [],
   "source": [
    "x = 1\n",
    "print(type(x))\n",
    "\n",
    "x = \"string\"\n",
    "print(type(x))\n",
    "\n",
    "print('Using isinstance(var, type):')\n",
    "print(isinstance(x,str))"
   ]
  },
  {
   "cell_type": "markdown",
   "metadata": {
    "id": "9qOdsCkQHKci"
   },
   "source": [
    "## 2.A.  Common Built-in types\n",
    "\n",
    "single object types\n",
    "\n",
    "| Type    | Description | Example\n",
    "| ----------- | ----------- | ------------ |\n",
    "| int      | integer,  values -x to x based on your system      | x = 1 |\n",
    "| bool | boolean, true or false|  x = True |\n",
    "| str   | string of text, defined by ```'this is a string'  ```      | x = 'hello'  |\n",
    "| float | floating point integer like 3.1415 | x = 3.1415  |\n",
    "| complex | a complex number like 3 + -3j | x = 3 + 3j |\n",
    "\n",
    "multiobject types\n",
    "\n",
    "| Type    | Description | Example\n",
    "| ----------- | ----------- | ----------- |\n",
    "| list      | an mutable (changeable) container of objects    | ```x = [1,2,3,'4']``` |\n",
    "| tuple   | a immutable container of objects    | ```x = (1,2,3,'4')```  |\n",
    "| set | an unordered list type that only keeps unique objects| ```x = set([1,2,3,'4'])``` |\n",
    "| dict | a container with a key object that labels a value object |``` x = {'key1':1, 'key2':'2'}```  |\n",
    "\n",
    "For more gorey detail on types: https://docs.python.org/3/library/stdtypes.html"
   ]
  },
  {
   "cell_type": "markdown",
   "metadata": {
    "id": "d9lcbt0bNWw2"
   },
   "source": [
    "## 2.B.  Simple Arithmetic Operations\n",
    "\n",
    "Lets take a look at the simple operators in Python!\n",
    "\n",
    "| Operator    | Description | Example | Result |\n",
    "| ----------- | ----------- | ------------ | ----------- |\n",
    "| +      | add two values or objects      | 5+5 | 10\n",
    "| - | subtract two values or objects  |  5-5 | 0\n",
    "| *   | multiply two values or objects  | 5*5  | 25 |\n",
    "| / | divide two values or objects  | 5/5  | 1 |\n",
    "| ** | exponent  | 2**3 | 8|\n",
    "| // | floor division (divide then round down) | 7//2 | 3\n",
    "| % | Modulo, remainder of division | 6%5 | 1 |\n",
    "---- BITWISE OPERATORS ---\n",
    "| & | Bitwise AND | 6&5 --> (b110 & b101 = b100 = 4)  | 4 |\n",
    "| \\| | Bitwise OR | 6 \\| 5 --> (b110 \\| b101 = b111 = 7)  | 7 |\n",
    "| ^ | Bitwise XOR | 6^5 --> (b110 ^ b101 = b011 = 3)  | 3 |\n",
    "| >> | Bitwise RSHIFT | 6>>2 --> (b110 >> 2 = b1 = 3)  | 1 |\n",
    "| << | Bitwise LSHIFT | 6<<2 --> (b110 << 2 = b11000 = 3)  | 24 |"
   ]
  },
  {
   "cell_type": "code",
   "execution_count": null,
   "metadata": {
    "colab": {
     "base_uri": "https://localhost:8080/"
    },
    "id": "ay-ZXpFuL3R5",
    "outputId": "949103f2-b92d-4710-df1c-27659dd3f490",
    "tags": []
   },
   "outputs": [],
   "source": [
    "x = 5\n",
    "y = 2\n",
    "\n",
    "print('x plus y = %f'%(x + y))\n",
    "print('x minus y = %f'%(x - y))\n",
    "print('y minus x = %f'%(y - x))\n",
    "\n",
    "print('x times y = %f'%(x * y))\n",
    "print('x divided y = %f'%(x / y))\n",
    "\n",
    "# ^ is bitwise XOR not the exponent!\n",
    "print('y to the power x = %f'%(y**x))\n",
    "\n",
    "# floor division automatically rounds the decimal down\n",
    "print('x floor division by y = %f'%(x // y))\n",
    "\n",
    "# modulo is an operator for the \"remainder\" of division\n",
    "# For example 5 % 2 = 1, 5/2 = 2 + 1/2 = 1 remainder\n",
    "print('x modulo y = %f'%(x % y))\n",
    "\n",
    "# there's some other special arithmetic operators, such as Bitwise XOR ^, that\n",
    "# we are not going to be using in the class here, but you may need them some day!"
   ]
  },
  {
   "cell_type": "code",
   "execution_count": null,
   "metadata": {
    "colab": {
     "base_uri": "https://localhost:8080/"
    },
    "id": "KiXQU_B-1WCg",
    "outputId": "37aafff1-5602-451e-dcfb-0f9c15e9917c",
    "tags": []
   },
   "outputs": [],
   "source": [
    "print('this is the output of x divided by y:',  x / y )\n",
    "\n",
    "# As of python 3.0+, python will return the division solution as a floating point,\n",
    "# in previous versions, python would round down to the closest integer, for example\n",
    "# 5/2 would = 2 instead of 2.5. This is something to be aware of if you are on python 2.XX"
   ]
  },
  {
   "cell_type": "markdown",
   "metadata": {
    "id": "IHrd_MTej3Ui"
   },
   "source": [
    "## 2.C.  Strings\n",
    "\n",
    "A string is denoted by single or double quotes ('text' or \"text\") in Python. Python has some built in convenience methods for handling strings or large blocks of text.\n",
    "\n",
    "```Reading: Kinder, Nelson Section 2.3```\n",
    "\n",
    "---\n",
    "\n",
    "``` test_string = 'im a test string'```\n",
    "\n",
    "| Method    | Description | Example\n",
    "| ----------- | ----------- | ------------ |\n",
    "| .split()      | splits a string by blank spaces or by a given character, | ```test_string.split() = ['im','a','test','string']``` |\n",
    "| .join() | joins an iterable with the string | ```','.join(['1','2','3']) = '1,2,3'``` |\n",
    "| list(string)   | splits a string by individual characters into a list   | ```list(test_string) = ['t','e','s'... 'n','g']```  |\n",
    "| str1 + str2 | appends str2 onto str1| ```test_string + ' and more' = 'im a test string and more'```|\n",
    "| .index() | returns the first index of a matching character | ```test_string.index('t') = 5``` |\n",
    "| .upper() | returns the uppercase of a string | ```test_string.upper() = 'IM A TEST STRING'``` |\n",
    "| .lower() | returns the lowercase version of the string | ```test_string.upper() = 'im a test string'``` |\n",
    "\n",
    "-----\n",
    "\n",
    "more complex handling of strings and matching is handled via ``re`` regular expressions (regex). [Here's the documentation on regex](https://docs.python.org/3/howto/regex.html) if you are inclined. Regular expressions are typically computationally heavy, so keep this in mind if you are using them for trivial tasks.\n"
   ]
  },
  {
   "cell_type": "code",
   "execution_count": null,
   "metadata": {
    "colab": {
     "base_uri": "https://localhost:8080/"
    },
    "id": "LuXW9e_-ktyS",
    "outputId": "73351a98-7eba-4b5f-82e0-a1db082ac9c8",
    "tags": []
   },
   "outputs": [],
   "source": [
    "test_string = 'im a test string'\n",
    "print('Original string: %s'%test_string)\n",
    "print('______________________')\n",
    "\n",
    "print(test_string.split()) #split based on spaces\n",
    "print(test_string.split('t')) #split based on letter t\n",
    "\n",
    "comma_string = ','.join(['1','2','3']) #join this list of strings by a comma ','\n",
    "print(comma_string)\n",
    "\n",
    "individual_characters = list(test_string)  #split the string into individual characters\n",
    "print(individual_characters)\n",
    "\n",
    "newstr = test_string + ' and more' #append a string onto a string\n",
    "print(newstr)\n",
    "print('the index of the first t in the string is:')\n",
    "print(test_string.index('t'))  #get the index of the first t\n",
    "\n",
    "\n",
    "uppercase_string = test_string.upper()\n",
    "print(uppercase_string) # uppercase string\n",
    "\n",
    "\n",
    "lowercase_string = test_string.lower()\n",
    "print(lowercase_string) # uppercase string\n"
   ]
  },
  {
   "cell_type": "markdown",
   "metadata": {
    "id": "DGPRtay1wrCl"
   },
   "source": [
    "## 2.D.  Multiline strings\n",
    "\n",
    "Multiline strings can be defined by either using the character ```\\``` at the end of a string or bracketing a string with three apostrophes ```` ''' ````. If you bracket a string with 3 comments then the string WILL include the new line character ```\\n``` to represent any enters/returns.\n",
    "\n",
    "```python\n",
    "\"i am a string \\\n",
    " that is broken into multiple lines without \\\n",
    "new line characters\"\n",
    "```\n",
    "\n",
    "```python\n",
    "'''\n",
    "I am a giant\n",
    "multiline\n",
    "string with enters\n",
    "'''\n",
    "```"
   ]
  },
  {
   "cell_type": "code",
   "execution_count": null,
   "metadata": {
    "colab": {
     "base_uri": "https://localhost:8080/"
    },
    "id": "tw4C9oaRwpsl",
    "outputId": "0da86bd8-df30-4900-b73d-412d96911d7e",
    "tags": []
   },
   "outputs": [],
   "source": [
    "str1 = \"i am a string \\\n",
    " that is broken into multiple lines without \\\n",
    "new line characters\"\n",
    "\n",
    "str2 = '''\n",
    "I am a giant\n",
    "multiline\n",
    "string with enters\n",
    "'''\n",
    "print('str1: ')\n",
    "print(str1)\n",
    "print('')\n",
    "print('str2: ')\n",
    "print(str2)"
   ]
  },
  {
   "cell_type": "markdown",
   "metadata": {
    "id": "F2t8r6ErYrRE"
   },
   "source": [
    "## 2.E.  String Formatting\n",
    "---\n",
    "\n",
    "Python has several methods for formatting arbitrary inputs into a given string, this allows the user to construct a string or output based on a changing variable!\n",
    "\n",
    "---\n",
    "\n",
    "### % formatting\n",
    "---\n",
    "\n",
    "The ```%``` operator is the oldest and a still common way of formatting Python strings for arbitrary inputs.\n",
    "\n",
    "```'sample string inputs: %?, %?'% (value1, value2)```\n",
    "\n",
    "We wont go in-depth beyond some common ```%``` formatting options are as follows:\n",
    "\n",
    "| Method    | Description | Example | Result |\n",
    "| ----------- | ----------- | ------------ |  ------------ |\n",
    "| %s     | expects the input to be a string | ```'%s'%'hello'``` | ```hello``` |\n",
    "| %i / %d | expects the input to be an integer | ```'value: %i'%3``` |  ```value: 3``` |\n",
    "| %f |expects the input to be a float |  ```'value: %f'%2.5```| ```value: 2.5``` |\n",
    "| %0M.Nf | returns a float to N decimal points precision, and makes sure the string is M long by padding with zeros  |  ```'value: %06.3f'%2.5```|```value: 02.500``` |\n",
    "| %M.Nf  | returns a float to N decimal points precision, and makes sure the string is M long by padding with spaces |  ```'value: %06.3f'%2.5``` | ```value:  2.500``` |\n",
    "| %e | similar to the floating point but returns floats in exponential form | ```'value: %5.3e'%2.5``` | ```value: 2.500e+00```|\n",
    "\n",
    "\n",
    "For an extensive explanation see the Python documentation:\n",
    "\n",
    "https://docs.python.org/3/library/stdtypes.html#printf-style-string-formatting\n",
    "\n",
    "---\n",
    "### str.format\n",
    "---\n",
    "\n",
    "```str.format``` is now the standard way of formatting/constructing strings as of Python 3.6. It is more regular and readable compared to the ```%``` operator. It also allows you to format strings without respect to the order in which inputs are given to a string.\n",
    "\n",
    "```'sample string input: {}'.format(value)```\n",
    "\n",
    "```'i dont care about the input of my string formatting {var1}, {var2}, {var3}'.format(var3=3, var2=2, var1=1)```\n",
    "\n",
    "\n",
    "```str.format``` has further specification for how you want to display, convert, or specify a particular value, for cases like the following example: how do you print a decimal to some particular precision? To handle this each formatting bracket is broken in to 3 parts: {name | !conversion | :format_spec}\n",
    "\n",
    "name will specify the name of which variable to use for this part of the string. !conversion is either ```!s```, ```!r```, or ```!a``` which specifies to use ```str()```, ```repr()```, or ```ascii()```, these are not commonly talked about since in most cases they are equivalent. The most important argument is :format_spec.\n",
    "\n",
    "Format spec, in gory detail is editable by changing any of the following sections: ```[[fill]align][sign][\"z\"][\"#\"][\"0\"][width][grouping_option][\".\" precision][type]```\n",
    "\n",
    "```\n",
    "format_spec     ::=  [[fill]align][sign][\"z\"][\"#\"][\"0\"][width][grouping_option][\".\" precision][type]\n",
    "fill            ::=  <any character> ::= character to fill with if any\n",
    "align           ::=  \"<\" | \">\" | \"=\" | \"^\"  ::= Alignment, left right, padding after sign, center\n",
    "sign            ::=  \"+\" | \"-\" | \" \" ::= display sign, + = +/-, - = minus only, \" \" is a space for positive and minus for negative\n",
    "width           ::=  digit+ ::= minimum width of the output string\n",
    "grouping_option ::=  \"_\" | \",\" ::= group with spaces or commas, like 1,000,000\n",
    "precision       ::=  digit+ ::= precision to show decimals too\n",
    "type            ::=  \"b\" | \"c\" | \"d\" | \"e\" | \"E\" | \"f\" | \"F\" | \"g\" | \"G\" | \"n\" | \"o\" | \"s\" | \"x\" | \"X\" | \"%\" ::= type of string, binary, char, decimal, octal, hex, large hex, number\n",
    "```\n",
    "\n",
    "For example:\n",
    "\n",
    "```0<+_.3f``` would be asking the string to format input as \"a float left align padded with 0s to the left, signed +/-, group large numbers by spaces, and show precision to 3 decimals\"\n",
    "\n",
    "\n",
    "https://docs.python.org/3/library/string.html#format-string-syntax\n",
    "\n",
    "---\n",
    "### f-strings\n",
    "---\n",
    "\n",
    "f-strings, or formatted literal strings are very similar to the ```str.format``` with some minor limitations, but also use the same specification approach. They are denoted by adding an f to the front of your string.\n",
    "\n",
    "```\n",
    "name = 'Will'\n",
    "print(f'My name is {name}')\n",
    ">>> My Name is Will\n",
    "```\n",
    "\n",
    "\n",
    "---\n",
    "### Template Strings\n",
    "---\n",
    "\n",
    "Template Strings, we won't go into these because they are mainly used for security reasons when the user is inputting sequences into your code. Be aware that is their main usage! https://docs.python.org/3/library/string.html#template-strings"
   ]
  },
  {
   "cell_type": "markdown",
   "metadata": {},
   "source": [
    "### Examples for some string formatting"
   ]
  },
  {
   "cell_type": "code",
   "execution_count": null,
   "metadata": {
    "colab": {
     "base_uri": "https://localhost:8080/"
    },
    "id": "UAit5V3aYpNM",
    "outputId": "92fbd6b9-adca-418a-bd26-d6961057f74a",
    "tags": []
   },
   "outputs": [],
   "source": [
    "number_of_apples = 5\n",
    "time_i_need_them_by = '3 PM'\n",
    "market_name = 'Farmers Market International'\n",
    "\n",
    "# The following all build the same string in three different ways!\n",
    "printf_formatting_result = 'Please bring me %i apples by %s, get them from the %s'%(number_of_apples, time_i_need_them_by, market_name)\n",
    "print(printf_formatting_result)\n",
    "\n",
    "str_formatting_result = 'Please bring me {n_apples} apples by {time}, get them from the {market}'.format(n_apples=number_of_apples,\n",
    "                                                                                                         time=time_i_need_them_by,\n",
    "                                                                                                         market=market_name)\n",
    "print(str_formatting_result)\n",
    "\n",
    "fstr_formatting_result = f'Please bring me {number_of_apples} apples by {time_i_need_them_by}, get them from the {market_name}'\n",
    "print(fstr_formatting_result)\n"
   ]
  },
  {
   "cell_type": "markdown",
   "metadata": {
    "id": "a4krYz0qmrD0"
   },
   "source": [
    "## 2.F.  Special String characters\n",
    "\n",
    "Some characters are reserved no matter what for strings, so called escape characters.\n",
    "\n",
    "| Character    | Name | Usage | Example | Result |\n",
    "| ----------- | ----------- | ------------ |  ------------ | ------------ |\n",
    "| ```\\```    | backslash | denotes an escape character! |  | |\n",
    "| ```\\\\``` | double backslash | escapes to place a backslash | ```'\\\\'``` | ```\\``` |\n",
    "| ```'``` | single quote | cant be placed in a string defined w/ single quotes| ```\" it's\"``` | it's | it's\n",
    "| ```\"``` | double quote  |  cant be placed in a string defined w/ double quotes | ```'she said \"hello\"'``` |she said \"hello\"|\n",
    "| ```\\r``` | Carriage return | Denotes going to the beginning of the line | ```'test\\rhello'``` | hello |\n",
    "| ```\\n``` | newline | Denotes pressing enter | ```'test\\nhello'```| test -> enter -> hello|\n",
    "| ```\\t``` | tab | denotes hitting tab | ```'test\\thello'```| test _____ hello |"
   ]
  },
  {
   "cell_type": "code",
   "execution_count": null,
   "metadata": {
    "colab": {
     "base_uri": "https://localhost:8080/"
    },
    "id": "QEmiS7GznPlh",
    "outputId": "ff96aaae-1d1d-4724-f8d5-70fbe5f9fec7",
    "tags": []
   },
   "outputs": [],
   "source": [
    "print('She said \"hello\"\\nHe said \"hi\".') #this prints this string into two lines!"
   ]
  },
  {
   "cell_type": "code",
   "execution_count": null,
   "metadata": {
    "colab": {
     "base_uri": "https://localhost:8080/"
    },
    "id": "GKqmxdsXpV2F",
    "outputId": "19e98635-0df7-4acd-999a-26759a1ecb5c",
    "tags": []
   },
   "outputs": [],
   "source": [
    "print('She said \"hello\"\\rHe said \"hi\".') #this puts the \"cursor\" back to the beginning and overwrites the previous lines"
   ]
  },
  {
   "cell_type": "code",
   "execution_count": null,
   "metadata": {
    "colab": {
     "base_uri": "https://localhost:8080/"
    },
    "id": "fbnPC7l1p7H4",
    "outputId": "a88612dc-bffc-462e-add8-fba25da21022",
    "tags": []
   },
   "outputs": [],
   "source": [
    "print('She said \"hello\"\\tHe said \"hi\" back.') #this puts a tab space before 'He'."
   ]
  },
  {
   "cell_type": "markdown",
   "metadata": {
    "id": "JO8ioFu3IVDs"
   },
   "source": [
    "### File path strings\n",
    "\n",
    "File paths are usually represented as strings, however, different operating systems use different slashes to separate directories. Unix and MacOSX use '/' while some windows systems use '\\\\'. You can manually change these when typing in file paths, or you could use the modules ```os``` or ```pathlib``` which we will explore in more detail later."
   ]
  },
  {
   "cell_type": "code",
   "execution_count": null,
   "metadata": {
    "id": "VdorACF12Sv3",
    "tags": []
   },
   "outputs": [],
   "source": [
    "example_file_path = '/directory/my_file.py'"
   ]
  },
  {
   "cell_type": "code",
   "execution_count": null,
   "metadata": {
    "colab": {
     "base_uri": "https://localhost:8080/"
    },
    "id": "buTVoJHM2Ycf",
    "outputId": "201fdac2-88bc-4819-a7d6-e30fbb2815da",
    "tags": []
   },
   "outputs": [],
   "source": [
    "directory_1 = 'my_dir'\n",
    "separator = '/'\n",
    "file_1 = 'test_file.py'\n",
    "\n",
    "path_to_file = directory_1 + separator + file_1\n",
    "print(path_to_file)\n",
    "\n",
    "# lets use the os module to do the same thing\n",
    "\n",
    "import os\n",
    "\n",
    "path_to_file = os.path.join(directory_1, file_1)\n",
    "print('using the os module:')\n",
    "print(path_to_file)"
   ]
  },
  {
   "cell_type": "markdown",
   "metadata": {
    "id": "0VPbr92N-C6j"
   },
   "source": [
    "## Questions to study for this material\n",
    "To test your understanding of the material in this section, complete the first problem set in the notebook, \"Homework1_ProblemSet.ipynb\" "
   ]
  },
  {
   "cell_type": "markdown",
   "metadata": {
    "id": "vm9myGRJ90RN"
   },
   "source": [
    "# 3.  Iterable objects and slicing\n",
    "```Reading: Kinder, Nelson Section 2.2```"
   ]
  },
  {
   "cell_type": "markdown",
   "metadata": {
    "id": "p-P6pIzsrSUE"
   },
   "source": [
    "## 3.A.  Iterable objects\n",
    "\n",
    "Iterable objects are things such as sets, lists, tuples, and dictionaries. Lists are mutable -- meaning they can be changed index by index. Tuples are immutable, meaning they cant be changed and will throw an error telling you it does not support item assignment."
   ]
  },
  {
   "cell_type": "code",
   "execution_count": null,
   "metadata": {
    "colab": {
     "base_uri": "https://localhost:8080/",
     "height": 277
    },
    "id": "IkHfm4cTrSFY",
    "outputId": "9f01cb9b-bb1d-4b8c-efac-e9c2f0d5bf8d",
    "tags": []
   },
   "outputs": [],
   "source": [
    "example_list = [1, 2, 4]\n",
    "\n",
    "example_tuple = (4,15,'3')\n",
    "\n",
    "print(example_list[0])\n",
    "print(example_tuple[0])\n",
    "\n",
    "## We can change the list contents, but not a tuples:\n",
    "example_list[0] = 33\n",
    "print(example_list)\n",
    "\n",
    "print('example_tuple[0] = 33 will return the following error:')\n",
    "example_tuple[0] = 33  #this throws an error saying the tuple does not support item assignment"
   ]
  },
  {
   "cell_type": "code",
   "execution_count": null,
   "metadata": {
    "id": "-WfBkWrnr_eL",
    "tags": []
   },
   "outputs": [],
   "source": [
    "print(dir(list)) #what attributes (including functions) does a list object have?\n",
    "\n",
    "print('List of functions a list object has:')\n",
    "print([x for x in dir(list) if '__' not in x] ) #what functions (excluding internal functions, denoted by __xx__) does a list object have?\n",
    "\n",
    "print('List of functions a tuple object has:')\n",
    "print([x for x in dir(tuple) if '__' not in x] ) #what functions (excluding internal functions, denoted by __xx__) does a list object have?"
   ]
  },
  {
   "cell_type": "markdown",
   "metadata": {
    "id": "u2gM5HaCgBrp"
   },
   "source": [
    "### built in list() commands\n",
    "\n",
    "| Command    | Description | Example\n",
    "| ----------- | ----------- | ------------ |\n",
    "| append      | add an element to the end of a list | example_list.append(1) |\n",
    "| clear | delete everything in the list| example_list.clear()  |\n",
    "| copy   | returns a copy (shallow copy) of the list     | example_list.copy()  |\n",
    "| extend | appends multiple items (iterable) to the end of the list |example_list.extend([1,2,3,4]) |\n",
    "| index | returns the index of the first matching value | example_list.index(3) |\n",
    "| insert | inserts an object at the given index | example_list(index, object)|\n",
    "| pop | deletes the object at index and returns it | example_list.pop(3) |\n",
    "| remove | deletes the object at given index and returns None | example_list.remove(3) |\n",
    "| reverse | returns a reversed list | example_list.reverse() |\n",
    "|  sort | sorts a list with a key or defaults alphabetical or numerical | example_list.sort() |\n",
    "\n",
    "\n",
    "Lists also support using a \"+\" or \"*\" operations for combining or duplicating lists:\n",
    "\n",
    "```\n",
    "[0,] + [1,2,3,4] = [0,1,2,3,4]\n",
    "[0,] * 3 = [0,0,0,]\n",
    " ```\n"
   ]
  },
  {
   "cell_type": "code",
   "execution_count": null,
   "metadata": {
    "id": "d4Eq5FOU-5iB",
    "tags": []
   },
   "outputs": [],
   "source": [
    "example_list = [91,11,22,31,41,15]\n",
    "\n",
    "example_list.reverse()\n",
    "\n",
    "print(example_list)\n"
   ]
  },
  {
   "cell_type": "code",
   "execution_count": null,
   "metadata": {
    "id": "pvmG_PEac7LX",
    "tags": []
   },
   "outputs": [],
   "source": [
    "example_list = [0,1,2,3,4,5]\n",
    "print('list before appending: %s'% str(example_list))\n",
    "\n",
    "example_list.append(6)\n",
    "print('list after appending: %s'% str(example_list))\n",
    "\n",
    "example_list = [0,1,2,3,4,5]\n",
    "print('list before extending: %s'% str(example_list))\n",
    "example_list.extend([6,7,8])\n",
    "print('list after extending: %s'% str(example_list))\n",
    "\n",
    "\n",
    "example_list = [0,1,2,3,4,5]\n",
    "print('list before clearing: %s'% str(example_list))\n",
    "example_list.clear()\n",
    "print('list after clearing: %s'% str(example_list))\n",
    "\n",
    "example_list = [0,1,5,3,4,5]\n",
    "number_of_5s = example_list.count(5)\n",
    "print('list: %s'% str(example_list))\n",
    "print('how many 5s are in the list? %s'% str(number_of_5s))\n",
    "\n"
   ]
  },
  {
   "cell_type": "markdown",
   "metadata": {
    "id": "7HX7wEdlOqCc"
   },
   "source": [
    "### 3.B.  Common functions that are used on iterables\n",
    "\n",
    "\n",
    "| Command    | Description | Example\n",
    "| ----------- | ----------- | ------------ |\n",
    "| len      | how large is an iterable | len(list1) |\n",
    "| sum | add everything in a list of numerical values | sum([1,2,3,4])  |\n",
    "| zip   | aggregates two same length iterables into one list, with the values being placed into tuples    | zip([1,2,3,4],[5,6,7,8]) |"
   ]
  },
  {
   "cell_type": "code",
   "execution_count": null,
   "metadata": {
    "colab": {
     "base_uri": "https://localhost:8080/"
    },
    "id": "pRFHRwkdPwGG",
    "outputId": "0463bc87-a3cd-4222-8782-632e70707e71",
    "tags": []
   },
   "outputs": [],
   "source": [
    "example_list_1 = [1,2,3,4]\n",
    "example_list_2 = [4,5,6,7]\n",
    "\n",
    "print('how long are these lists: ')\n",
    "print(len(example_list_1))\n",
    "\n",
    "print('Whats the sum of list one: ')\n",
    "print(sum(example_list_1))\n",
    "\n",
    "print('Whats the zip of both of these lists: ')\n",
    "print(list(zip(example_list_1,example_list_2)))\n",
    "\n"
   ]
  },
  {
   "cell_type": "markdown",
   "metadata": {
    "id": "ZaPQNGZ5qNuN"
   },
   "source": [
    "#### An aside about iterator objects (zip)\n",
    "\n",
    "Any object that has a ```.__iter__()``` and ```.next()``` method is considered an **iterator**. To put it simply, these are objects that map a given bit of memory and return the desired values one at a time when iterated over. ```zip``` is an example of an iterator. If we call the zip object itself, it doesn't give us the list of tuples we expect, this is because the zip object hasn't been \"exhausted\" by being iterated over. The iterator object has to be called for its length to obtain all its values, hence why we have to convert it to a new list if we want to view it. Til its exhausted its effectively just a pointer to some location in memory.\n",
    "\n",
    "Why does it do this? Well it's saving memory in the background! Calling zip on two objects logically means those objects are already in memory, to make a new object combining them means we are at least doubling the amount of memory right away, instead, zip makes a \"map\" of how to combine these two objects and only really MAKES the new object requested when it is used."
   ]
  },
  {
   "cell_type": "code",
   "execution_count": null,
   "metadata": {
    "colab": {
     "base_uri": "https://localhost:8080/"
    },
    "id": "4WAosadkroFl",
    "outputId": "151b25ef-e863-4520-fc5e-fae27a6f1155",
    "tags": []
   },
   "outputs": [],
   "source": [
    "zipobj = zip(example_list_1,example_list_2)\n",
    "print(zipobj)"
   ]
  },
  {
   "cell_type": "code",
   "execution_count": null,
   "metadata": {
    "colab": {
     "base_uri": "https://localhost:8080/",
     "height": 172
    },
    "id": "aeI0m4j1sPfJ",
    "outputId": "057a5ad5-4193-4164-c3c5-4806f542be02",
    "tags": []
   },
   "outputs": [],
   "source": [
    "zipobj.__next__() # try running this multiple times!"
   ]
  },
  {
   "cell_type": "markdown",
   "metadata": {
    "id": "aRNeMrkiukcW"
   },
   "source": [
    "# 4.  Slicing and Indexing\n",
    "\n",
    "With the introduction of strings we now need to go over the concept of slicing and indexing within python as its relevant to both strings and iterable objects.\n",
    "\n",
    "```test_string = 'hello im a string to slice'```\n",
    "\n",
    "Slicing and indexing works as follows:\n",
    "\n",
    "``` iterable[x:y:z] ```\n",
    "\n",
    "return every zth element in range x to y not including y\n",
    "\n",
    "0:10 is equivalent to\n",
    "```i = 0 to i < 10 for i ++ 1```\n",
    "\n",
    "**indexing starts at zero!!**\n",
    "\n",
    "**reverse indexing starts at -1**\n",
    "\n",
    "You can also leave out some of the elements if you are starting from the front or back:\n",
    "\n",
    "| Example    | Equivalent to | Description |\n",
    "| ----------- | ----------- | ------------ |\n",
    "| ```iterable[5]``` | ```iterable[5:6:1]```      | get the 5th element |\n",
    "| ```iterable[0]``` | ```iterable[0:1:1]```      | get the first element |\n",
    "| ```iterable[-1]``` | ```iterable[-1:-2:-1]```      | get the last element |\n",
    "| ```iterable[:5]``` | ```iterable[0:5:1]```      | get the first 5 elements |\n",
    "| ```iterable[::5]``` | ```iterable[0:-1:5]```      | get every 5th element starting at index 0 of the whole iterable |\n",
    "| ```iterable[3::-1]``` | ```iterable[3:-1:-1]```      | get all elements past index 3 and reverse them |\n",
    "\n",
    "\n",
    "And slicing can also be used to reverse or get elements from the back of an iterable:\n",
    "\n",
    "```iterable[:-3]``` would return the last 3 elements of the iterable\n",
    "\n"
   ]
  },
  {
   "cell_type": "code",
   "execution_count": null,
   "metadata": {
    "id": "LEWFrrKtu4GC",
    "tags": []
   },
   "outputs": [],
   "source": [
    "test_string = 'hello im a string to slice'\n",
    "\n",
    "first_element = test_string[0]\n",
    "print(first_element)\n",
    "\n",
    "\n",
    "third_element = test_string[2]\n",
    "print(third_element)\n",
    "\n",
    "first5_elements = test_string[0:5]\n",
    "print(first5_elements)\n",
    "\n",
    "removed_the_last_3_elements = test_string[0:-3]\n",
    "print(removed_the_last_3_elements)\n",
    "\n",
    "#reversed_string = test_string[start:end:step]\n",
    "\n",
    "reversed_string = test_string[::-1] #reversed string\n",
    "print(reversed_string)\n",
    "\n",
    "sliced_string = test_string[:2] #get every 2nd element starting at index 0\n",
    "print(sliced_string)\n",
    "\n",
    "iterable = test_string  #examples of equivalent indexing\n",
    "print('%s == %s'% (iterable[2],iterable[2:3:1]))\n",
    "print('%s == %s'% (iterable[-1],iterable[-1:-2:-1]))\n",
    "print('%s == %s'% (iterable[:5],iterable[0:5:1]))\n"
   ]
  },
  {
   "cell_type": "markdown",
   "metadata": {
    "id": "JRMngmRXnK0W"
   },
   "source": [
    "## 4.A.  Dictionaries\n",
    "\n",
    "Dictionaries are a very powerful way to provide a nonordered method to store information. Dictionaries are \"keyed\" with an object key that goes to some other object. Since its object oriented, a user can match particular objects to other objects. In Python they are denoted by curly brackets in python with pairs of keys and values separated by a colon \":\"\n",
    "\n",
    "Dictionaries cannot be sliced over, since they have no inherent order. Python stores dictionaries in memory in any order.\n",
    "\n",
    "```\n",
    "example_dict = {'key1': 0, 1:'1'}\n",
    "example_dict2 = {'key1': [1,2,3,4], 1:'1'}\n",
    "```"
   ]
  },
  {
   "cell_type": "code",
   "execution_count": null,
   "metadata": {
    "colab": {
     "base_uri": "https://localhost:8080/"
    },
    "id": "MXHTUAEQckc4",
    "outputId": "7d32499b-95af-4967-86e3-a0d4f3188e05",
    "tags": []
   },
   "outputs": [],
   "source": [
    "example_dict = {'atg': 25, 'key2':1}  #\n",
    "print(example_dict.keys())\n",
    "print(example_dict.values())\n"
   ]
  },
  {
   "cell_type": "code",
   "execution_count": null,
   "metadata": {
    "colab": {
     "base_uri": "https://localhost:8080/"
    },
    "id": "Ixn83rOXkTY0",
    "outputId": "1f8202dc-cfc7-4d95-d323-f17792ddea5f",
    "tags": []
   },
   "outputs": [],
   "source": [
    "example_dict['newkey'] = 'newvalue'  #adding a new value to a dictionary\n",
    "\n",
    "print(example_dict)"
   ]
  },
  {
   "cell_type": "code",
   "execution_count": null,
   "metadata": {
    "id": "7CrCvIqtdHYa",
    "tags": []
   },
   "outputs": [],
   "source": [
    "example_dict['newkey2'] = 'newvalue2'\n",
    "#using the same key will just overwrite what is in that value, not add a new value\n",
    "example_dict['newkey2'] = 'overwritten'\n",
    "print(example_dict)"
   ]
  },
  {
   "cell_type": "markdown",
   "metadata": {
    "id": "5Iyb78mYnMho"
   },
   "source": [
    "## 4.B.  Sets\n",
    "\n",
    "Sets are a useful way to compare the objects stored within containers. Comparisons between sets are very useful and include methods such as an intersection of objects within two containers, or the non-intersection of objects. Sets are denoted by curly brackets without any key value pairs like a dictionary. Values in sets are **unique** meaning you cant store multiple of the same value within a set.\n",
    "\n",
    "```\n",
    "example_set = {1,2,3}\n",
    "```"
   ]
  },
  {
   "cell_type": "code",
   "execution_count": null,
   "metadata": {
    "id": "vbDRIYKyihJL",
    "tags": []
   },
   "outputs": [],
   "source": [
    "set1 = {\"a\",\"b\",\"c\"}\n",
    "set2 = {\"a\",\"c\",\"2\"}\n",
    "\n",
    "print(set1.intersection(set2))\n",
    "\n",
    "#print([x for x in dir(set) if '__' not in x] ) #what methods does the type \"set\" have?"
   ]
  },
  {
   "cell_type": "code",
   "execution_count": null,
   "metadata": {
    "id": "5cZHQS6oi_vz",
    "tags": []
   },
   "outputs": [],
   "source": [
    "# we can use the property of a set being unique to remove unique entries from this list!\n",
    "list_with_duplicates = [1,2,3,4,5,6,6,6,6,7,7,7,8,9,10,10]\n",
    "unique_list = list(set(list_with_duplicates))#convert the list to a set and back to remove duplicates\n",
    "print(unique_list)"
   ]
  },
  {
   "cell_type": "markdown",
   "metadata": {
    "id": "j_SWDCYXYxao"
   },
   "source": [
    "# Study Questions and Homework\n",
    "\n",
    "Test your understanding of this notebook by completing the second set of problems in the notebook \"Homework1_ProblemSet\"."
   ]
  },
  {
   "cell_type": "markdown",
   "metadata": {
    "id": "Fl51NvzBFgbu"
   },
   "source": [
    "Additional study questions:\n",
    "\n",
    "Lists:\n",
    "\n",
    "* What happens when you sort() a list of both numerals and strings?\n",
    "* What's the difference between a dictkeys object, a list, and a tuple?\n",
    "\n",
    "Dictionaries:\n",
    "* Which bracket defines a dictionary? How is a dictionary differently defined compared to a set?\n",
    "\n",
    "\n"
   ]
  },
  {
   "cell_type": "markdown",
   "metadata": {
    "id": "yM50KRNmN3Mm"
   },
   "source": [
    "# Additional Reading\n",
    "\n",
    "https://docs.python.org/3/library/stdtypes.html"
   ]
  }
 ],
 "metadata": {
  "colab": {
   "provenance": [],
   "toc_visible": true
  },
  "kernelspec": {
   "display_name": "Python 3 (ipykernel)",
   "language": "python",
   "name": "python3"
  },
  "language_info": {
   "codemirror_mode": {
    "name": "ipython",
    "version": 3
   },
   "file_extension": ".py",
   "mimetype": "text/x-python",
   "name": "python",
   "nbconvert_exporter": "python",
   "pygments_lexer": "ipython3",
   "version": "3.12.4"
  }
 },
 "nbformat": 4,
 "nbformat_minor": 4
}
