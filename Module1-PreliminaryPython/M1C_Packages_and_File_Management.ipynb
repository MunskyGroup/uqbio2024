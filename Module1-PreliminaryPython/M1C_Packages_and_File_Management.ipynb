{
 "cells": [
  {
   "cell_type": "markdown",
   "metadata": {},
   "source": [
    "<html>\n",
    "    <summary></summary>\n",
    "    <p float=\"left\">\n",
    "         <div> <p></p> </div>\n",
    "         <div style=\"font-size: 20px; width: 800px;\">\n",
    "              <h1>\n",
    "               <left>Intro to Python: importing packages, classes/modules, os navigation, reading files </left>\n",
    "              </h1>\n",
    "              <p><left>============================================================================</left> </p>              \n",
    "             <pre>Course: BIOM 421, Spring 2024\n",
    "Instructor: Dr. Brian Munsky\n",
    "Contact Info: munsky@colostate.edu\n",
    "Authors: Will Raymond, Dr. Luis Aguilera, Dr. Brian Munsky\n",
    "</pre>\n",
    "         </div>\n",
    "    </p>\n",
    "\n",
    "</html>\n",
    "\n",
    "\n",
    "\n",
    "<details>\n",
    "  <summary>Copyright info</summary>\n",
    "\n",
    "```\n",
    "Copyright 2023 Brian Munsky\n",
    "\n",
    "Redistribution and use in source and binary forms, with or without modification, are permitted provided that the following conditions are met:\n",
    "\n",
    "1. Redistributions of source code must retain the above copyright notice, this list of conditions and the following disclaimer.\n",
    "\n",
    "2. Redistributions in binary form must reproduce the above copyright notice, this list of conditions and the following disclaimer in the documentation and/or other materials provided with the distribution.\n",
    "\n",
    "3. Neither the name of the copyright holder nor the names of its contributors may be used to endorse or promote products derived from this software without specific prior written permission.\n",
    "\n",
    "THIS SOFTWARE IS PROVIDED BY THE COPYRIGHT HOLDERS AND CONTRIBUTORS \"AS IS\" AND ANY EXPRESS OR IMPLIED WARRANTIES, INCLUDING, BUT NOT LIMITED TO, THE IMPLIED WARRANTIES OF MERCHANTABILITY AND FITNESS FOR A PARTICULAR PURPOSE ARE DISCLAIMED. IN NO EVENT SHALL THE COPYRIGHT HOLDER OR CONTRIBUTORS BE LIABLE FOR ANY DIRECT, INDIRECT, INCIDENTAL, SPECIAL, EXEMPLARY, OR CONSEQUENTIAL DAMAGES (INCLUDING, BUT NOT LIMITED TO, PROCUREMENT OF SUBSTITUTE GOODS OR SERVICES; LOSS OF USE, DATA, OR PROFITS; OR BUSINESS INTERRUPTION) HOWEVER CAUSED AND ON ANY THEORY OF LIABILITY, WHETHER IN CONTRACT, STRICT LIABILITY, OR TORT (INCLUDING NEGLIGENCE OR OTHERWISE) ARISING IN ANY WAY OUT OF THE USE OF THIS SOFTWARE, EVEN IF ADVISED OF THE POSSIBILITY OF SUCH DAMAGE.\n",
    "```\n",
    "<details>"
   ]
  },
  {
   "cell_type": "markdown",
   "metadata": {
    "id": "_YPwTneNwC64"
   },
   "source": [
    "Here we will learn about one of the nicest things about python -- the modular nature of object oriented programming. \n",
    "\n",
    "Importing modules lets you load particular subset of code into your instance of Python for use as needed.  \n",
    "\n",
    "For example, we can import one section or function of a given code instead of loading the entire package. Available modules are based on your current path / environment variables and your current instillation of python.\n",
    "\n",
    "You can import the package ```sys``` (system) and take a glance at what paths (folders/directories) python has access to when importing.\n",
    "\n",
    "---\n",
    "\n",
    "```Reading: Kinder, Nelson Section 4 and Appendix B```\n"
   ]
  },
  {
   "cell_type": "code",
   "execution_count": null,
   "metadata": {
    "colab": {
     "base_uri": "https://localhost:8080/"
    },
    "id": "-g7iivNAb5Q7",
    "outputId": "afe14cb2-9884-432f-f19e-09c6881455f6",
    "tags": []
   },
   "outputs": [],
   "source": [
    "import os, sys\n",
    "sys.path  #current paths python has"
   ]
  },
  {
   "cell_type": "markdown",
   "metadata": {
    "id": "0L49iqF6J3gI"
   },
   "source": [
    "Let's take a glance at what we have installed in your local environment (its a lot). To do this we are going to call ```pip```, ```pip``` is the main package manager for Python and comes included since Python 3. ```pip```connects to [PyPI](https://pypi.org/), the python package index where people are free to release code and modules that they have developed.\n",
    "\n",
    "**Tip - The exclamation point below tells the Jupyter Notebook to run this command in the background kernel, as if this were a terminal or command prompt input.** By calling ```!pip list``` or ```%pip list``` we are telling Jupyter to list every package."
   ]
  },
  {
   "cell_type": "code",
   "execution_count": null,
   "metadata": {
    "colab": {
     "base_uri": "https://localhost:8080/"
    },
    "id": "U9pWqC3qKG94",
    "outputId": "6b622281-dd29-4494-d4fb-38b5ac066793",
    "tags": []
   },
   "outputs": [],
   "source": [
    "%pip list"
   ]
  },
  {
   "cell_type": "markdown",
   "metadata": {
    "id": "28duHFCsWYjS"
   },
   "source": [
    "## 1) Importing, Using, and Installing packages"
   ]
  },
  {
   "cell_type": "markdown",
   "metadata": {
    "id": "Ac061_wIM64K"
   },
   "source": [
    "To get information about any of these modules, we need to import a package, like numpy, and then use ```module?``` or help(module) to get additional information about this package. What is displayed is from a specifically formatted comment called a docstring (documentation string) that comes along with the package."
   ]
  },
  {
   "cell_type": "code",
   "execution_count": null,
   "metadata": {
    "id": "MOBgOvXAMt9x",
    "tags": []
   },
   "outputs": [],
   "source": [
    "import numpy\n",
    "# If we want to learn more about a module, we can use the help command !(name)?\n",
    "numpy?"
   ]
  },
  {
   "cell_type": "markdown",
   "metadata": {
    "id": "_gTByrOwWrD8"
   },
   "source": [
    "### 1.A) importing different packages or sub-modules\n",
    "\n",
    "```import``` in Python is the command to load in a particular ```package``` (large collection of code with several submodules) or ```module``` (single files up to medium sized classes).\n",
    "\n",
    "When you import you have several options:\n",
    "\n",
    "```python\n",
    "# import the entire package all at once\n",
    "import numpy\n",
    "\n",
    "# import the package and use a (simpler) variable name, \"np\" to refer to it\n",
    "import numpy as np\n",
    "\n",
    "# import a specific submodule or function from the package\n",
    "from numpy import linalg as la\n",
    "\n",
    "# importing one function only from the sub - module linear algebra contained in numpy\n",
    "from numpy.linalg import svd as svd\n",
    "```"
   ]
  },
  {
   "cell_type": "code",
   "execution_count": null,
   "metadata": {
    "colab": {
     "base_uri": "https://localhost:8080/",
     "height": 36
    },
    "id": "bXXO_iNVvbqP",
    "outputId": "9ae649ce-6979-4a5f-c02f-8728eb4a3790",
    "tags": []
   },
   "outputs": [],
   "source": [
    "import numpy as np\n",
    "# if we want to know the version:\n",
    "np.__version__"
   ]
  },
  {
   "cell_type": "code",
   "execution_count": null,
   "metadata": {
    "colab": {
     "base_uri": "https://localhost:8080/",
     "height": 36
    },
    "id": "TNCoa_yYWqdz",
    "outputId": "8ad54838-fd35-4c74-90f3-65eaf4a71c1a",
    "tags": []
   },
   "outputs": [],
   "source": [
    "from numpy import linalg as la #import only the linear algebra file\n",
    "# or if we want to know where a specific file is:\n",
    "la.__file__"
   ]
  },
  {
   "cell_type": "code",
   "execution_count": null,
   "metadata": {
    "tags": []
   },
   "outputs": [],
   "source": [
    "# or if we want just the docstring:\n",
    "la.__doc__"
   ]
  },
  {
   "cell_type": "code",
   "execution_count": null,
   "metadata": {
    "id": "FT5tUqRVYAOl",
    "tags": []
   },
   "outputs": [],
   "source": [
    "from numpy.linalg import svd as svd\n",
    "svd?"
   ]
  },
  {
   "cell_type": "markdown",
   "metadata": {
    "id": "Zhfov8rCmBan",
    "jp-MarkdownHeadingCollapsed": true,
    "tags": []
   },
   "source": [
    "#### Importing local packages\n",
    "You can also write your own packages and then import them, but they folders need to be written in the right format.  To learn more, see the extensive page within Python's own documentation: https://docs.python.org/3/tutorial/modules.html"
   ]
  },
  {
   "cell_type": "markdown",
   "metadata": {
    "id": "F3BLTyKhlX7l",
    "tags": []
   },
   "source": [
    "### 1.B) Using packages\n",
    "\n",
    "Once we have imported a package, you can call any submodules or functions by module.function()"
   ]
  },
  {
   "cell_type": "code",
   "execution_count": null,
   "metadata": {
    "colab": {
     "base_uri": "https://localhost:8080/"
    },
    "id": "kXotxOskV2TO",
    "outputId": "14037dc8-6096-46c6-8ca5-ad6d4d5bb5c8",
    "tags": []
   },
   "outputs": [],
   "source": [
    "arr = np.ones([10,100])\n",
    "la.svd(arr)"
   ]
  },
  {
   "cell_type": "markdown",
   "metadata": {
    "id": "PKdiuk7rlSUJ"
   },
   "source": [
    "### 1.C) Installing new packages"
   ]
  },
  {
   "cell_type": "markdown",
   "metadata": {
    "id": "64Q6SW3jNZmp"
   },
   "source": [
    "To find more packages to install, usually they are stored on [PyPI](https://pypi.org/) - Python Package Index. Searching for specific modules is difficult within PyPI, so I recommend finding packages via searching academic papers or Google scholar for your specific purposes and using the authors' particular Githubs!\n",
    "\n",
    "From there you can install a package in Colab by using ```!pip``` according to the package's instructions."
   ]
  },
  {
   "cell_type": "code",
   "execution_count": null,
   "metadata": {
    "colab": {
     "base_uri": "https://localhost:8080/"
    },
    "id": "-5hjsl9LNyvV",
    "outputId": "b1cb29da-bffe-4d94-c543-25888ce4febe",
    "tags": []
   },
   "outputs": [],
   "source": [
    "# lets install Biopython\n",
    "# https://biopython.org/\n",
    "\n",
    "!pip install biopython\n",
    "import Bio\n",
    "print('')\n",
    "print('The version of BioPython installed:')\n",
    "print(Bio.__version__)"
   ]
  },
  {
   "cell_type": "markdown",
   "metadata": {
    "id": "PafXp9PlKfXO"
   },
   "source": [
    "### 1.D) os - \"operating system\"\n",
    "\n",
    "```os```  is the main package that lets you navigate and change directories for various purposes, similar to how you move around in a command prompt or terminal. ```os``` also performs miscellaneous operating system functions such as changing directories or checking process ids.\n",
    "\n",
    "https://docs.python.org/3/library/os.html\n",
    "\n",
    "\n",
    "Another popular file path manager is ```pathlib```.\n",
    "\n",
    "https://docs.python.org/3/library/pathlib.html"
   ]
  },
  {
   "cell_type": "code",
   "execution_count": null,
   "metadata": {
    "colab": {
     "base_uri": "https://localhost:8080/"
    },
    "id": "QdBoojYxKQCp",
    "outputId": "29d7b573-9b8c-497d-a4fe-7c38b8d79eaf",
    "tags": []
   },
   "outputs": [],
   "source": [
    "import os\n",
    "print(os.getcwd())  #what is our current working directory (cwd)?"
   ]
  },
  {
   "cell_type": "markdown",
   "metadata": {
    "id": "cTqlun-uliFG"
   },
   "source": [
    "Once again, for us to import ```os```, the ```os``` module must exist in our system path so Python can \"see\" it.\n",
    "\n"
   ]
  },
  {
   "cell_type": "code",
   "execution_count": null,
   "metadata": {
    "colab": {
     "base_uri": "https://localhost:8080/"
    },
    "id": "7iP1fyEAlsay",
    "outputId": "a26ee17f-04e4-4ec4-889d-f3949d51e3d1",
    "tags": []
   },
   "outputs": [],
   "source": [
    "print('We are using the following file as the package os:')\n",
    "print(os.__file__) # Print the actual file that we imported the os packages from\n",
    "print('')\n",
    "print('Here is our current sys.path:')\n",
    "print(sys.path)\n",
    "# Note how this file we just imported from is inside our path!"
   ]
  },
  {
   "cell_type": "markdown",
   "metadata": {},
   "source": [
    "Let's take a look at our current directory and its files using the ```os``` module:"
   ]
  },
  {
   "cell_type": "code",
   "execution_count": null,
   "metadata": {
    "colab": {
     "base_uri": "https://localhost:8080/"
    },
    "id": "3-f8NhJbLH1e",
    "outputId": "fb03cf7c-bda6-4c18-a929-e5ae232e5a9d",
    "tags": []
   },
   "outputs": [],
   "source": [
    "#list all files in a directory, '.' denotes our current working directory\n",
    "os.listdir('.')"
   ]
  },
  {
   "cell_type": "markdown",
   "metadata": {
    "id": "H_s-6Nz_XrhJ"
   },
   "source": [
    "```os``` uses Unix-like paths:\n",
    "\n",
    "``` .``` a single period denotes my current working directory\n",
    "\n",
    "``` ..``` a single period denotes one parent folder above my current working directory\n",
    "\n",
    "``` ~``` a tilde represents the current users home directory"
   ]
  },
  {
   "cell_type": "code",
   "execution_count": null,
   "metadata": {
    "colab": {
     "base_uri": "https://localhost:8080/"
    },
    "id": "za-SJ9P6YbxV",
    "outputId": "58144aaf-73ff-416f-c7d7-9186f931c2bb",
    "tags": []
   },
   "outputs": [],
   "source": [
    "print('Files and folders in my current directory')\n",
    "print(os.listdir('.'))\n",
    "print('')\n",
    "print('Files and folders one directory above my current directory')\n",
    "print(os.listdir('..'))"
   ]
  },
  {
   "cell_type": "code",
   "execution_count": null,
   "metadata": {
    "colab": {
     "base_uri": "https://localhost:8080/"
    },
    "id": "QBcoaAM2Yw6N",
    "outputId": "f19c6ea1-ac40-4d80-9104-61de3a4fd8f3",
    "tags": []
   },
   "outputs": [],
   "source": [
    "print(os.path.expanduser('~'))"
   ]
  },
  {
   "cell_type": "markdown",
   "metadata": {
    "id": "XntLwYNAGan2"
   },
   "source": [
    "## 2) Reading and Writing files\n",
    "\n",
    "Opening a file is done with \"open\" and opens a buffer to a particular file on your hard drive. It's best practice to use ``` with open() as object:``` so the buffer closes on its own after the execution of code within the ``` with ``` is over. Typically you may see people use ```f``` to denote their file buffer object.\n",
    "\n",
    " ```python\n",
    "with open('example.txt', 'w') as f:\n",
    "    print(f.readlines)\n",
    "    \n",
    " ```\n",
    "\n",
    " ```open``` takes an additional flag to denote whether you are reading, ```'r'```, writing, ```'w'```, or appending ```'a'``` a file.\n",
    "\n",
    "Additonally, if you are not reading a text file, you may have to read / write a file in binary mode, ```'b'```, by appending b to your flag (```'wb'``` would mean write in binary mode)."
   ]
  },
  {
   "cell_type": "code",
   "execution_count": null,
   "metadata": {
    "colab": {
     "base_uri": "https://localhost:8080/"
    },
    "id": "KKXaUdW_Gkbd",
    "outputId": "8e8d90c7-fe19-4184-cab9-fd28ba9fde41",
    "tags": []
   },
   "outputs": [],
   "source": [
    "text_lines = ['hi im some lines to write to a file \\n', '1\\n','2\\n','3\\n']\n",
    "# \\n is a newline character, ie pressing enter\n",
    "\n",
    "# im writing a regular text file, 'w'\n",
    "with open('test.txt','w') as f:\n",
    "  f.writelines(text_lines)\n",
    "\n",
    "# im opening a file to read it, 'r'\n",
    "with open('test.txt','r') as f:\n",
    "  read_in_lines = f.readlines()\n",
    "\n",
    "read_in_lines\n"
   ]
  },
  {
   "cell_type": "markdown",
   "metadata": {
    "id": "ANovnKhdPwnA"
   },
   "source": [
    "Try opening the file we just made in your finder or file explorer, we should have saved it to the same place as this notebook file.\n",
    "\n",
    "We can also write in binary mode and see what that looks like:"
   ]
  },
  {
   "cell_type": "code",
   "execution_count": null,
   "metadata": {
    "colab": {
     "base_uri": "https://localhost:8080/"
    },
    "id": "PI5MVzT4Hq6E",
    "outputId": "8c452080-d12a-46f7-9196-2c7f53f44a95",
    "tags": []
   },
   "outputs": [],
   "source": [
    "import numpy as np\n",
    "\n",
    "# lets write some arbitrary array to a file as binary\n",
    "print('writing array to bin file:')\n",
    "array = np.array([5,1,4,2,3,6])\n",
    "print(array)\n",
    "with open('test.bin','wb') as f:\n",
    "  for i in array:\n",
    "    f.write(i)\n",
    "\n",
    "# lets use the kernel to print out what is stored in the binary file\n",
    "print('')\n",
    "print('stored in file:')\n",
    "!head test.bin\n",
    "print('')\n",
    "\n",
    "\n",
    "# lets read that back into python\n",
    "with open('test.bin','rb') as f:\n",
    "  bitarray = []\n",
    "  byte = f.read(1)\n",
    "  bitarray.append(byte)\n",
    "  while byte != b\"\":\n",
    "    byte = f.read(1)\n",
    "    bitarray.append(byte)\n",
    "\n",
    "# converting back from a byte array to a usable numpy array\n",
    "print('')\n",
    "read_array = []\n",
    "for i in range(int(len(bitarray)/8) ):\n",
    "  read_array.append(b''.join(bitarray[i*8:8 + i*8]))\n",
    "read_array = [int.from_bytes(x,byteorder='little') for x in read_array]\n",
    "\n",
    "print('array after read back in:')\n",
    "print(read_array)"
   ]
  },
  {
   "cell_type": "markdown",
   "metadata": {
    "id": "gGUrc4qghP3E"
   },
   "source": [
    "We will see more about numpy later, but for now you can also save a numpy array to its own file format using ```np.save(file, array)```"
   ]
  },
  {
   "cell_type": "code",
   "execution_count": null,
   "metadata": {
    "colab": {
     "base_uri": "https://localhost:8080/"
    },
    "id": "LUrrhOXShNuw",
    "outputId": "9082a5b3-a0c7-4cd6-9895-ee97d111000c",
    "tags": []
   },
   "outputs": [],
   "source": [
    "np.save('test.npy', array)\n",
    "# print out this new file\n",
    "!head test.npy"
   ]
  },
  {
   "cell_type": "markdown",
   "metadata": {
    "id": "K84SSQMcGj22"
   },
   "source": [
    "## 3) Pandas file management\n",
    "\n",
    "```pandas``` is a library that extends NumPy by adding row and column headers. The primary data format it uses is called a \"DataFrame.\" Pandas will read a plethora of file formats into the dataframe format for easy object oriented manipulation within python. When you are done with the manipulation, you can write the file back out or return the underlying NumPy array. We wont go into great detail with ```pandas``` in this course, however it is a very powerful tool for manipulating data just as ```numpy``` is for numerical analyses.\n",
    "\n",
    "https://pandas.pydata.org/docs/getting_started/index.html#getting-started\n"
   ]
  },
  {
   "cell_type": "markdown",
   "metadata": {
    "id": "jzphOCQVM3AT"
   },
   "source": [
    "### 3.A) Opening a file with Pandas\n",
    "\n",
    "Let's open some example data into Jupyter."
   ]
  },
  {
   "cell_type": "code",
   "execution_count": null,
   "metadata": {
    "id": "ilUoElr2Lk8K",
    "tags": []
   },
   "outputs": [],
   "source": [
    "import pandas as pd\n",
    "\n",
    "#Let's read some pre-generated data that is commonly used in machine learning practice:\n",
    "housing_dataframe = pd.read_csv('./california_housing_test.csv')"
   ]
  },
  {
   "cell_type": "code",
   "execution_count": null,
   "metadata": {
    "colab": {
     "base_uri": "https://localhost:8080/",
     "height": 487
    },
    "id": "jq-G_oXf5EgI",
    "outputId": "7d79cd46-5d9b-4389-83e0-5b84df195d3a",
    "tags": []
   },
   "outputs": [],
   "source": [
    "housing_dataframe #lets print out the beginning of this file"
   ]
  },
  {
   "cell_type": "markdown",
   "metadata": {
    "id": "S1yKWhMaM-Y7"
   },
   "source": [
    "Getting columns and Logicals\n",
    "\n",
    "The (dis)advantage of pandas is that the slicing that you would do with numpy can be done with strings instead of indexes.\n",
    "\n",
    "Pros:\n",
    "\n",
    "* Comprehension\n",
    "\n",
    "It's clear which column you are using at a time since you can use text label headers.\n",
    "\n",
    "Cons:\n",
    "* Readability\n",
    "\n",
    "When stringing together long logicals slicing dataframes, the readability can quickly become incomprehensible.\n"
   ]
  },
  {
   "cell_type": "code",
   "execution_count": null,
   "metadata": {
    "colab": {
     "base_uri": "https://localhost:8080/",
     "height": 487
    },
    "id": "tyYS_GY95_z7",
    "outputId": "548ccb22-f7b7-4959-a74a-293bc6927534",
    "tags": []
   },
   "outputs": [],
   "source": [
    "# lets get only the housing data from those with an household age of > 50\n",
    "housing_dataframe[housing_dataframe['housing_median_age'  ] > 50]"
   ]
  },
  {
   "cell_type": "code",
   "execution_count": null,
   "metadata": {
    "colab": {
     "base_uri": "https://localhost:8080/"
    },
    "id": "9zKWs4pFLyZ1",
    "outputId": "c6bce7e3-4de4-45de-f39b-5fbfa6b9bece",
    "tags": []
   },
   "outputs": [],
   "source": [
    "# getting just the housing median age\n",
    "all_median_ages = housing_dataframe['housing_median_age']\n",
    "\n",
    "# just the median ages above 25\n",
    "ages_above_25 = housing_dataframe[housing_dataframe['housing_median_age'] > 25]\n",
    "\n",
    "print(len(all_median_ages))\n",
    "print(len(ages_above_25))\n"
   ]
  },
  {
   "cell_type": "code",
   "execution_count": null,
   "metadata": {
    "colab": {
     "base_uri": "https://localhost:8080/",
     "height": 296
    },
    "id": "l-S55RtEL3x9",
    "outputId": "bd7162eb-3fe9-4047-a52a-23dada632274",
    "tags": []
   },
   "outputs": [],
   "source": [
    "#Lets plot some of that data with a module called matplotlib\n",
    "import matplotlib.pyplot as plt\n",
    "\n",
    "#pull the values out of the pandas array (stored as a numpy array)\n",
    "housing_data_array = housing_dataframe['housing_median_age'].values\n",
    "\n",
    "plt.hist(housing_data_array,50,density=True)\n",
    "plt.xlabel('age')\n",
    "plt.ylabel('probability')"
   ]
  },
  {
   "cell_type": "markdown",
   "metadata": {
    "id": "8rvGU7XjOKlE"
   },
   "source": [
    "| Attribute    | Description |\n",
    "| ----------- | ------------ |\n",
    "| .values()|  get a numpy array of all values within the dataframe    |  \n",
    "| .head()|  print out the top 5 rows    |  \n",
    "| .tail()|  print out the bottom 5 rows    |  \n",
    "| .iloc()|  lets you use indexes like the dataframe is numpy    |  \n",
    "| .columns()|  return out all the headers of the columns in the dataframe |  \n",
    "\n"
   ]
  },
  {
   "cell_type": "code",
   "execution_count": null,
   "metadata": {
    "colab": {
     "base_uri": "https://localhost:8080/"
    },
    "id": "5ZFozGpmOrAp",
    "outputId": "cd5784e0-7714-49bb-c4d4-60eef6771ed8",
    "tags": []
   },
   "outputs": [],
   "source": [
    "housing_dataframe.columns"
   ]
  },
  {
   "cell_type": "markdown",
   "metadata": {
    "id": "IpMOTILBMzU7"
   },
   "source": [
    "### 3.B) Writing a csv file with Pandas\n",
    "\n",
    "Lets write some simple CSVs using pandas. Pandas accepts multiple formats as long as indexes are provided."
   ]
  },
  {
   "cell_type": "code",
   "execution_count": null,
   "metadata": {
    "colab": {
     "base_uri": "https://localhost:8080/"
    },
    "id": "C6WqFeNUMm0I",
    "outputId": "850fe68a-da77-4540-f1e4-83e3510a2e75",
    "tags": []
   },
   "outputs": [],
   "source": [
    "# The easiest way to write a new dataframe is to generate a dictionary of your data\n",
    "# data keyed by its column header\n",
    "new_dataframe_dict = {'column 1': [1,2,3,4],\n",
    "                      'column 2': ['1','2','3','4'],\n",
    "                      'last col': ['a','b','c','d']}\n",
    "\n",
    "# optional row labels, we have 4 entries for each column, so we need 4 labels\n",
    "row_labels = ['row 1', 'row 2', 'row 3', 'row 4']\n",
    "\n",
    "# Generate our new pandas dataframe\n",
    "new_df = pd.DataFrame(new_dataframe_dict, index=row_labels)\n",
    "print('in memory:')\n",
    "print(new_df.head())\n",
    "\n",
    "# We can write this data frame to a .csv for easy of access in multiple softwares\n",
    "print('')\n",
    "new_df.to_csv('test_csv.csv',  index_label='blank')\n",
    "print('on disk:')\n",
    "!head test_csv.csv"
   ]
  },
  {
   "cell_type": "markdown",
   "metadata": {
    "id": "o2gOEScwRMdi"
   },
   "source": [
    "### 3.C) Creating a dataframe from a numpy array\n",
    "\n",
    "This is as simple as passing the array and the correct number of column headers into DataFrame"
   ]
  },
  {
   "cell_type": "code",
   "execution_count": null,
   "metadata": {
    "id": "isUXp7hjPm-L",
    "tags": []
   },
   "outputs": [],
   "source": [
    "import numpy as np\n",
    "random_array = np.random.randint(0,1000,size=(5,100)).T\n",
    "headers = ['col'+str(x) for x in range(0,5)]\n",
    "\n",
    "new_df = pd.DataFrame(random_array,columns=headers)"
   ]
  },
  {
   "cell_type": "code",
   "execution_count": null,
   "metadata": {
    "colab": {
     "base_uri": "https://localhost:8080/",
     "height": 206
    },
    "id": "Tvdr21iVQ1bw",
    "outputId": "27ae1765-96fc-4347-9dce-2206c2d72495",
    "tags": []
   },
   "outputs": [],
   "source": [
    "new_df.head()"
   ]
  },
  {
   "cell_type": "markdown",
   "metadata": {
    "id": "zUi7SNbCiKNI"
   },
   "source": [
    "## 4) Saving numpy arrays with npy files\n",
    "\n",
    " ```numpy``` aslo has a built in file format for you to save n-dimensional arrays and read them back in as needed."
   ]
  },
  {
   "cell_type": "code",
   "execution_count": null,
   "metadata": {
    "colab": {
     "base_uri": "https://localhost:8080/"
    },
    "id": "n8gptMhNiZ8h",
    "outputId": "87f30f1c-2fb2-434a-8ecb-5b08f1be91ef",
    "tags": []
   },
   "outputs": [],
   "source": [
    "import numpy as np\n",
    "\n",
    "my_array = np.ones((3,100,100))\n",
    "for i in range(3):\n",
    "  my_array[i] = my_array[i]*i\n",
    "\n",
    "print(my_array)\n",
    "\n",
    "print('')\n",
    "print('file on the disk:')\n",
    "np.save('test_save',my_array, )\n",
    "\n",
    "!head test_save.npy\n",
    "\n",
    "loaded_array = np.load('test_save.npy')\n",
    "\n",
    "print('')\n",
    "print('')\n",
    "print('loaded array:')\n",
    "print(loaded_array)"
   ]
  },
  {
   "cell_type": "markdown",
   "metadata": {
    "id": "AYysquQfRWTP"
   },
   "source": [
    "A note about memory sizes and datatypes:\n",
    "\n",
    "Numpy arrays can get large fast when you are working in multiple dimensions. When saving you can save disk space by making sure you are saving in the smallest datatype you can, keep in mind the maximum possible integers for different data types!\n",
    "\n",
    "| dtype | min | max | hex |\n",
    "| --- | --- | --- | --- |\n",
    "| int8 | -128 |127|  (-0x80, 0x7F)|\n",
    "| uint8 | 0 |255|  (0x00, 0xFF)|\n",
    "| int16 | -32768 |32767|  (-0x8000, 0x7FFF)|\n",
    "| uint16 | 0 |65535|  (0x0, 0xFFFF)|\n",
    "| int32 | -2147483648 | 2147483647 | (-0x80000000, 0x7FFFFFFF)\n",
    "| uint32 | 0 |4294967295|  (0x0, 0xFFFFFFFF)|\n",
    "| int64| -9223372036854775808 | 9223372036854775807 | (-0x8000000000000000, 0x7FFFFFFFFFFFFFFF)\n",
    "| uint64 | 0 |18446744073709551615|  (0x0, 0xFFFFFFFFFFFFFFFF)|\n",
    "\n",
    "----\n",
    "\n",
    "Note that these are maximums for **integer** values, representing floating point values is complicated and beyond the scope of this course, but 99% of the time they will use 32 or 64 bits of memory just like the larger integer data types. If you are interested check out the Wikipedia page on double precision floating points:\n",
    "https://en.wikipedia.org/wiki/Double-precision_floating-point_format\n",
    "\n",
    "\n",
    "\n"
   ]
  },
  {
   "cell_type": "code",
   "execution_count": null,
   "metadata": {
    "colab": {
     "base_uri": "https://localhost:8080/"
    },
    "id": "XxDExd8lR0a8",
    "outputId": "f0a9ceb8-f3a3-4879-f2a0-187c6a200303",
    "tags": []
   },
   "outputs": [],
   "source": [
    "dtypes = {'int16': np.int16,\n",
    "          'int32': np.int32,\n",
    "          'float32':np.float32,\n",
    "          'float64':np.float64,\n",
    "          'bool':bool}\n",
    "data_type = 'int16' #@param [\"int16\",\"int32\",\"float32\", 'float64','bool']\n",
    "dtype = dtypes[data_type]\n",
    "array = np.ones([300,300,300]).astype(dtype)\n",
    "totalbytes = array.itemsize*array.size\n",
    "\n",
    "print('total mb of this array with type %s: %1.4f mb'% (str(dtype),totalbytes/1e6))"
   ]
  },
  {
   "cell_type": "markdown",
   "metadata": {
    "id": "lRq21AN7lNjx"
   },
   "source": [
    "## Questions"
   ]
  },
  {
   "cell_type": "code",
   "execution_count": null,
   "metadata": {
    "id": "PlZcd6_YlNOx"
   },
   "outputs": [],
   "source": [
    "## Print the current working directory using the module os"
   ]
  },
  {
   "cell_type": "code",
   "execution_count": null,
   "metadata": {
    "id": "0BYik57jwckx"
   },
   "outputs": [],
   "source": [
    "## Open a file and write a short message in text, save the file as 'example_file.txt'"
   ]
  },
  {
   "cell_type": "code",
   "execution_count": null,
   "metadata": {
    "id": "c2BM84Tpwxif"
   },
   "outputs": [],
   "source": [
    "## List out the default packages installed in your environment,\n",
    "## pick one, and view its docstring / documentation"
   ]
  }
 ],
 "metadata": {
  "colab": {
   "provenance": [],
   "toc_visible": true
  },
  "kernelspec": {
   "display_name": "py312",
   "language": "python",
   "name": "python3"
  },
  "language_info": {
   "codemirror_mode": {
    "name": "ipython",
    "version": 3
   },
   "file_extension": ".py",
   "mimetype": "text/x-python",
   "name": "python",
   "nbconvert_exporter": "python",
   "pygments_lexer": "ipython3",
   "version": "3.12.4"
  }
 },
 "nbformat": 4,
 "nbformat_minor": 4
}
